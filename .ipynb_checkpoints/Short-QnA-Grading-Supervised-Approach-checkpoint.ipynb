{
 "cells": [
  {
   "cell_type": "markdown",
   "metadata": {},
   "source": [
    "<h1 align=\"center\"><font color='blue'>Data Science Project - EduPhile</font></h1>"
   ]
  },
  {
   "cell_type": "markdown",
   "metadata": {},
   "source": [
    "***Made By***  <br> 1. Jumshaid Khan (FA17-BSE-004) <br> 2. Syeda Shane Zahra (FA17-BSE-043) <br><br> ***Scenario 01:*** Predicting the Grade of a student on the basis of answer. (Supervised Learning Approach)\n"
   ]
  },
  {
   "cell_type": "markdown",
   "metadata": {},
   "source": [
    "-----------------------------------------------------------------------------------------------------"
   ]
  },
  {
   "cell_type": "markdown",
   "metadata": {},
   "source": [
    "### Analyzing  Data"
   ]
  },
  {
   "cell_type": "code",
   "execution_count": 47,
   "metadata": {},
   "outputs": [],
   "source": [
    "#Libraries\n",
    "from pandas import read_csv\n",
    "import matplotlib.pyplot as plt\n",
    "import numpy as np\n",
    "import pandas as pd\n",
    "import matplotlib.pyplot as plt\n",
    "from pandas.plotting import scatter_matrix\n",
    "import matplotlib as matplotlib\n",
    "import matplotlib.lines as mlines"
   ]
  },
  {
   "cell_type": "code",
   "execution_count": 2,
   "metadata": {},
   "outputs": [
    {
     "data": {
      "text/html": [
       "<div>\n",
       "<style scoped>\n",
       "    .dataframe tbody tr th:only-of-type {\n",
       "        vertical-align: middle;\n",
       "    }\n",
       "\n",
       "    .dataframe tbody tr th {\n",
       "        vertical-align: top;\n",
       "    }\n",
       "\n",
       "    .dataframe thead th {\n",
       "        text-align: right;\n",
       "    }\n",
       "</style>\n",
       "<table border=\"1\" class=\"dataframe\">\n",
       "  <thead>\n",
       "    <tr style=\"text-align: right;\">\n",
       "      <th></th>\n",
       "      <th>student_answer</th>\n",
       "      <th>total_score</th>\n",
       "      <th>teacher_score</th>\n",
       "      <th>percentage</th>\n",
       "      <th>grade</th>\n",
       "    </tr>\n",
       "  </thead>\n",
       "  <tbody>\n",
       "    <tr>\n",
       "      <td>0</td>\n",
       "      <td>high risk problems are address in the prototyp...</td>\n",
       "      <td>5</td>\n",
       "      <td>3.5</td>\n",
       "      <td>70</td>\n",
       "      <td>C</td>\n",
       "    </tr>\n",
       "    <tr>\n",
       "      <td>1</td>\n",
       "      <td>to simulate portions of the desired final prod...</td>\n",
       "      <td>5</td>\n",
       "      <td>5.0</td>\n",
       "      <td>100</td>\n",
       "      <td>A</td>\n",
       "    </tr>\n",
       "    <tr>\n",
       "      <td>2</td>\n",
       "      <td>a prototype program simulates the behaviors of...</td>\n",
       "      <td>5</td>\n",
       "      <td>4.0</td>\n",
       "      <td>80</td>\n",
       "      <td>B</td>\n",
       "    </tr>\n",
       "    <tr>\n",
       "      <td>3</td>\n",
       "      <td>defined in the specification phase a prototype...</td>\n",
       "      <td>5</td>\n",
       "      <td>5.0</td>\n",
       "      <td>100</td>\n",
       "      <td>A</td>\n",
       "    </tr>\n",
       "    <tr>\n",
       "      <td>4</td>\n",
       "      <td>it is used to let the users have a first idea ...</td>\n",
       "      <td>5</td>\n",
       "      <td>3.0</td>\n",
       "      <td>60</td>\n",
       "      <td>D</td>\n",
       "    </tr>\n",
       "  </tbody>\n",
       "</table>\n",
       "</div>"
      ],
      "text/plain": [
       "                                      student_answer  total_score  \\\n",
       "0  high risk problems are address in the prototyp...            5   \n",
       "1  to simulate portions of the desired final prod...            5   \n",
       "2  a prototype program simulates the behaviors of...            5   \n",
       "3  defined in the specification phase a prototype...            5   \n",
       "4  it is used to let the users have a first idea ...            5   \n",
       "\n",
       "   teacher_score  percentage grade  \n",
       "0            3.5          70     C  \n",
       "1            5.0         100     A  \n",
       "2            4.0          80     B  \n",
       "3            5.0         100     A  \n",
       "4            3.0          60     D  "
      ]
     },
     "execution_count": 2,
     "metadata": {},
     "output_type": "execute_result"
    }
   ],
   "source": [
    "url = \"assign01-q01.csv\"\n",
    "dataset = read_csv(url)\n",
    "dataset.head(5)"
   ]
  },
  {
   "cell_type": "code",
   "execution_count": 3,
   "metadata": {},
   "outputs": [
    {
     "name": "stdout",
     "output_type": "stream",
     "text": [
      "Number of data points:  145\n",
      "grade\n",
      "A    12\n",
      "B     1\n",
      "C     2\n",
      "D     3\n",
      "F    11\n",
      "dtype: int64\n"
     ]
    }
   ],
   "source": [
    "print(\"Number of data points: \",dataset.size)\n",
    "print(dataset.groupby('grade').size())"
   ]
  },
  {
   "cell_type": "markdown",
   "metadata": {},
   "source": [
    "### Preprocessing Data"
   ]
  },
  {
   "cell_type": "markdown",
   "metadata": {},
   "source": [
    "##### Tokenization of answers"
   ]
  },
  {
   "cell_type": "code",
   "execution_count": 4,
   "metadata": {},
   "outputs": [
    {
     "name": "stderr",
     "output_type": "stream",
     "text": [
      "[nltk_data] Downloading package punkt to\n",
      "[nltk_data]     C:\\Users\\jumsh\\AppData\\Roaming\\nltk_data...\n",
      "[nltk_data]   Package punkt is already up-to-date!\n",
      "[nltk_data] Downloading package wordnet to\n",
      "[nltk_data]     C:\\Users\\jumsh\\AppData\\Roaming\\nltk_data...\n",
      "[nltk_data]   Package wordnet is already up-to-date!\n"
     ]
    },
    {
     "data": {
      "text/plain": [
       "True"
      ]
     },
     "execution_count": 4,
     "metadata": {},
     "output_type": "execute_result"
    }
   ],
   "source": [
    "\n",
    "import nltk\n",
    "nltk.download('punkt')\n",
    "nltk.download('wordnet')"
   ]
  },
  {
   "cell_type": "code",
   "execution_count": 5,
   "metadata": {},
   "outputs": [
    {
     "name": "stdout",
     "output_type": "stream",
     "text": [
      "Original Student Answer: high risk problems are address in the prototype program to make sure that the program is feasible.  a prototype may also be used to show a company that the software can be possibly programmed. \n",
      "\n",
      "\n",
      "Tokenized Answer: ['high', 'risk', 'problems', 'are', 'address', 'in', 'the', 'prototype', 'program', 'to', 'make', 'sure', 'that', 'the', 'program', 'is', 'feasible', 'a', 'prototype', 'may', 'also', 'be', 'used', 'to', 'show', 'a', 'company', 'that', 'the', 'software', 'can', 'be', 'possibly', 'programmed']\n"
     ]
    }
   ],
   "source": [
    "from nltk.tokenize import RegexpTokenizer\n",
    "tokenizer = RegexpTokenizer(r'\\w+')\n",
    "print(\"Original Student Answer:\", dataset[\"student_answer\"][0],\"\\n\\n\")\n",
    "print(\"Tokenized Answer:\",tokenizer.tokenize(dataset[\"student_answer\"][0])) "
   ]
  },
  {
   "cell_type": "code",
   "execution_count": 6,
   "metadata": {},
   "outputs": [],
   "source": [
    "tk_std_ans = [] \n",
    "for sentence in dataset[\"student_answer\"].values:\n",
    "    tk_std_ans.append(tokenizer.tokenize(sentence))"
   ]
  },
  {
   "cell_type": "markdown",
   "metadata": {},
   "source": [
    "##### Stopwords Removal"
   ]
  },
  {
   "cell_type": "code",
   "execution_count": 7,
   "metadata": {},
   "outputs": [
    {
     "name": "stdout",
     "output_type": "stream",
     "text": [
      "Original Tokenized Answer:  ['high', 'risk', 'problems', 'are', 'address', 'in', 'the', 'prototype', 'program', 'to', 'make', 'sure', 'that', 'the', 'program', 'is', 'feasible', 'a', 'prototype', 'may', 'also', 'be', 'used', 'to', 'show', 'a', 'company', 'that', 'the', 'software', 'can', 'be', 'possibly', 'programmed']\n",
      "\n",
      "Tokenized Answer after stopwords removal:  ['high', 'risk', 'problems', 'address', 'prototype', 'program', 'make', 'sure', 'program', 'feasible', 'prototype', 'may', 'also', 'used', 'show', 'company', 'software', 'possibly', 'programmed']\n"
     ]
    }
   ],
   "source": [
    "from nltk.corpus import stopwords\n",
    "\n",
    "filtered_words = [word for word in tk_std_ans[0] if word not in stopwords.words('English')] \n",
    "print(\"Original Tokenized Answer: \", tk_std_ans[0])\n",
    "print()\n",
    "print(\"Tokenized Answer after stopwords removal: \", filtered_words)\n",
    "\n",
    "list_fw_std_ans = []\n",
    "\n",
    "for sentence in tk_std_ans:\n",
    "    fw_list = [word for word in sentence if word not in stopwords.words('English')]\n",
    "    list_fw_std_ans.append(fw_list)"
   ]
  },
  {
   "cell_type": "markdown",
   "metadata": {},
   "source": [
    "##### Lemmatization"
   ]
  },
  {
   "cell_type": "code",
   "execution_count": 8,
   "metadata": {},
   "outputs": [
    {
     "name": "stdout",
     "output_type": "stream",
     "text": [
      "Orignal Student Answer:  ['high', 'risk', 'problems', 'address', 'prototype', 'program', 'make', 'sure', 'program', 'feasible', 'prototype', 'may', 'also', 'used', 'show', 'company', 'software', 'possibly', 'programmed']\n",
      "\n",
      "Lemmatized words:  ['high', 'risk', 'problem', 'address', 'prototype', 'program', 'make', 'sure', 'program', 'feasible', 'prototype', 'may', 'also', 'used', 'show', 'company', 'software', 'possibly', 'programmed']\n"
     ]
    }
   ],
   "source": [
    "print(\"Orignal Student Answer: \", list_fw_std_ans[0])\n",
    "\n",
    "lem_ans = [nltk.stem.WordNetLemmatizer().lemmatize(word) for word in list_fw_std_ans[0]]\n",
    "print()\n",
    "print(\"Lemmatized words: \", lem_ans)\n",
    "\n",
    "list_lem_std_ans = []\n",
    "\n",
    "for sentence in list_fw_std_ans:\n",
    "    lm_list = [word for word in sentence if word not in stopwords.words('English')]\n",
    "    list_lem_std_ans.append(lm_list)"
   ]
  },
  {
   "cell_type": "markdown",
   "metadata": {},
   "source": [
    "##### Stemming"
   ]
  },
  {
   "cell_type": "code",
   "execution_count": 9,
   "metadata": {
    "scrolled": true
   },
   "outputs": [
    {
     "name": "stdout",
     "output_type": "stream",
     "text": [
      "Original Student Answer:  ['high', 'risk', 'problems', 'address', 'prototype', 'program', 'make', 'sure', 'program', 'feasible', 'prototype', 'may', 'also', 'used', 'show', 'company', 'software', 'possibly', 'programmed'] \n",
      "\n",
      "\n",
      "Stemmed Student Answer using Porter Stemmer:  ['high', 'risk', 'problem', 'address', 'prototyp', 'program', 'make', 'sure', 'program', 'feasibl', 'prototyp', 'may', 'also', 'use', 'show', 'compani', 'softwar', 'possibl', 'program']\n"
     ]
    }
   ],
   "source": [
    "print(\"Original Student Answer: \", list_lem_std_ans[0],\"\\n\\n\")\n",
    "\n",
    "stemmed_words = [nltk.stem.PorterStemmer().stem(word) for word in list_lem_std_ans[0]]\n",
    "print(\"Stemmed Student Answer using Porter Stemmer: \", stemmed_words)\n",
    "\n",
    "list_stem_std_ans = []\n",
    "\n",
    "for sentence in list_lem_std_ans:\n",
    "    stem_list = [nltk.stem.PorterStemmer().stem(word) for word in sentence]\n",
    "    list_stem_std_ans.append(stem_list)"
   ]
  },
  {
   "cell_type": "code",
   "execution_count": 10,
   "metadata": {
    "scrolled": true
   },
   "outputs": [
    {
     "name": "stdout",
     "output_type": "stream",
     "text": [
      "0     [high, risk, problem, address, prototyp, progr...\n",
      "1     [simul, portion, desir, final, product, quick,...\n",
      "2     [prototyp, program, simul, behavior, portion, ...\n",
      "3     [defin, specif, phase, prototyp, stimul, behav...\n",
      "4     [use, let, user, first, idea, complet, program...\n",
      "5                [find, problem, error, program, final]\n",
      "6     [address, major, issu, creation, program, way,...\n",
      "7     [break, whole, program, prototyp, program, sim...\n",
      "8     [provid, exampl, model, finish, program, perfo...\n",
      "9     [simul, behavior, portion, desir, softwar, pro...\n",
      "10    [program, stimul, behavior, portion, desir, so...\n",
      "11    [program, simul, behavior, portion, desir, sof...\n",
      "12    [lay, basic, give, start, point, actual, probl...\n",
      "13                [simul, problem, solv, part, problem]\n",
      "14    [prototyp, program, provid, basic, groundwork,...\n",
      "15    [prototyp, program, part, specif, phase, softw...\n",
      "16    [program, simul, behavior, portion, desir, sof...\n",
      "17    [provid, limit, proof, concept, verifi, client...\n",
      "18    [test, main, function, program, leav, finer, d...\n",
      "19    [get, earli, feedback, user, earli, stage, dev...\n",
      "20    [simul, behavior, portion, desir, softwar, pro...\n",
      "21    [simul, behavior, portion, desir, softwar, pro...\n",
      "22    [prototyp, program, use, problem, solv, collec...\n",
      "23    [eas, understand, problem, discuss, eas, under...\n",
      "24    [simul, behavior, portion, desir, softwar, pro...\n",
      "25    [role, prototyp, program, help, spot, key, pro...\n",
      "26    [prototyp, program, give, gener, idea, end, pr...\n",
      "27         [show, certain, part, program, work, suppos]\n",
      "28    [prototyp, program, approach, program, enabl, ...\n",
      "dtype: object\n"
     ]
    }
   ],
   "source": [
    "# creating our lemmitized student answers into series  \n",
    "data_std_ans = pd.Series(list_stem_std_ans) \n",
    "print(data_std_ans) "
   ]
  },
  {
   "cell_type": "markdown",
   "metadata": {},
   "source": [
    "### Creating Feature Vectors"
   ]
  },
  {
   "cell_type": "code",
   "execution_count": 11,
   "metadata": {},
   "outputs": [
    {
     "name": "stdout",
     "output_type": "stream",
     "text": [
      "Original Teacher Answer: To simulate the behaviour of portions of the desired software product. \n",
      "\n",
      "\n",
      "Tokenized + Stopwords Removed + Lemmatized Teacher Answer: ['To', 'simulate', 'behaviour', 'portion', 'desired', 'software', 'product']\n"
     ]
    }
   ],
   "source": [
    "# preparing teacher answer\n",
    "t_quest = \"What is the role of a prototype program in problem solving?\"\n",
    "t_ans = \"To simulate the behaviour of portions of the desired software product.\"\n",
    "t_tkn_ans = tokenizer.tokenize(t_ans)\n",
    "t_fw_ans = [word for word in t_tkn_ans if word not in stopwords.words('English')]\n",
    "t_lem_ans = [nltk.stem.WordNetLemmatizer().lemmatize(word) for word in t_fw_ans]\n",
    "\n",
    "print(\"Original Teacher Answer:\", t_ans,\"\\n\\n\")\n",
    "print(\"Tokenized + Stopwords Removed + Lemmatized Teacher Answer:\", t_lem_ans) "
   ]
  },
  {
   "cell_type": "markdown",
   "metadata": {},
   "source": [
    "##### Bag of words"
   ]
  },
  {
   "cell_type": "code",
   "execution_count": 12,
   "metadata": {},
   "outputs": [
    {
     "name": "stdout",
     "output_type": "stream",
     "text": [
      "Total number of features extracted from all answers(BOW):  159\n",
      "Total number of students answers:  29\n"
     ]
    }
   ],
   "source": [
    "def dummy(doc):\n",
    "    return doc\n",
    "\n",
    "from sklearn.feature_extraction.text import CountVectorizer\n",
    "matrix = CountVectorizer(max_features=200, tokenizer=dummy, preprocessor=dummy,)\n",
    "X_features = matrix.fit(data_std_ans)\n",
    "X = matrix.fit_transform(data_std_ans).toarray() \n",
    "\n",
    "print(\"Total number of features extracted from all answers(BOW): \",len(X_features.get_feature_names()))\n",
    "print(\"Total number of students answers: \",len(X))\n"
   ]
  },
  {
   "cell_type": "markdown",
   "metadata": {},
   "source": [
    "##### Creating Training and testing data"
   ]
  },
  {
   "cell_type": "code",
   "execution_count": 13,
   "metadata": {},
   "outputs": [],
   "source": [
    "# X is the input data\n",
    "y = dataset.iloc[:, 4] # input labels\n",
    "\n",
    "from sklearn.model_selection import train_test_split\n",
    "X_train, X_test, y_train, y_test = train_test_split(X, y, test_size = 0.6)"
   ]
  },
  {
   "cell_type": "markdown",
   "metadata": {},
   "source": [
    "### ML Models for Classification"
   ]
  },
  {
   "cell_type": "markdown",
   "metadata": {},
   "source": [
    "##### Using Naive Bayes Classifier"
   ]
  },
  {
   "cell_type": "code",
   "execution_count": 33,
   "metadata": {},
   "outputs": [
    {
     "name": "stdout",
     "output_type": "stream",
     "text": [
      "Confusion Matrix:\n",
      " [[5 0 0 0 5]\n",
      " [1 0 0 0 0]\n",
      " [0 0 0 0 1]\n",
      " [0 0 0 0 2]\n",
      " [0 0 0 0 4]] \n",
      "\n",
      "The accuracy score for Naive Bayes:  50.0\n",
      "F1 Score:  0.4583333333333333\n"
     ]
    },
    {
     "name": "stderr",
     "output_type": "stream",
     "text": [
      "C:\\Users\\jumsh\\Anaconda3\\lib\\site-packages\\sklearn\\metrics\\classification.py:1437: UndefinedMetricWarning: F-score is ill-defined and being set to 0.0 in labels with no predicted samples.\n",
      "  'precision', 'predicted', average, warn_for)\n"
     ]
    }
   ],
   "source": [
    "from sklearn.naive_bayes import GaussianNB\n",
    "classifier = GaussianNB()\n",
    "classifier.fit(X_train, y_train)\n",
    "\n",
    "y_pred = classifier.predict(X_test)\n",
    "\n",
    "# Evaluation Metrix \n",
    "from sklearn.metrics import accuracy_score\n",
    "from sklearn.metrics import confusion_matrix\n",
    "from sklearn.metrics import f1_score\n",
    "from sklearn.metrics import average_precision_score\n",
    "\n",
    "accuracy_N = accuracy_score(y_test, y_pred)\n",
    "\n",
    "print(\"Confusion Matrix:\\n\",confusion_matrix(y_test, y_pred),\"\\n\")\n",
    "\n",
    "print(\"The accuracy score for Naive Bayes: \",accuracy_N*100)\n",
    "f1_score_N = f1_score(y_test, y_pred, average = 'weighted')\n",
    "print(\"F1 Score: \", f1_score_N)"
   ]
  },
  {
   "cell_type": "markdown",
   "metadata": {},
   "source": [
    "##### Using KNN"
   ]
  },
  {
   "cell_type": "code",
   "execution_count": 35,
   "metadata": {},
   "outputs": [
    {
     "name": "stdout",
     "output_type": "stream",
     "text": [
      "Confusion Matrix:\n",
      " [[9 0 0 0 1]\n",
      " [1 0 0 0 0]\n",
      " [0 0 0 0 1]\n",
      " [2 0 0 0 0]\n",
      " [0 0 0 0 4]] \n",
      "\n",
      "The accuracy score for Naive Bayes:  72.22222222222221\n",
      "F1 Score:  0.6323232323232324\n"
     ]
    },
    {
     "name": "stderr",
     "output_type": "stream",
     "text": [
      "C:\\Users\\jumsh\\Anaconda3\\lib\\site-packages\\sklearn\\metrics\\classification.py:1437: UndefinedMetricWarning: F-score is ill-defined and being set to 0.0 in labels with no predicted samples.\n",
      "  'precision', 'predicted', average, warn_for)\n"
     ]
    }
   ],
   "source": [
    "from sklearn.neighbors import KNeighborsClassifier\n",
    "\n",
    "neigh = KNeighborsClassifier(n_neighbors=3)\n",
    "neigh.fit(X_train, y_train)\n",
    "y_pred = neigh.predict(X_test)\n",
    "\n",
    "# Evaluation Metrix \n",
    "from sklearn.metrics import accuracy_score\n",
    "from sklearn.metrics import confusion_matrix\n",
    "from sklearn.metrics import f1_score\n",
    "from sklearn.metrics import average_precision_score\n",
    "\n",
    "accuracy = accuracy_score(y_test, y_pred)\n",
    "\n",
    "print(\"Confusion Matrix:\\n\",confusion_matrix(y_test, y_pred),\"\\n\")\n",
    "f1_score_K = f1_score(y_test, y_pred, average = 'weighted')\n",
    "print(\"The accuracy score for Naive Bayes: \",accuracy*100)\n",
    "print(\"F1 Score: \", f1_score_K)"
   ]
  },
  {
   "cell_type": "markdown",
   "metadata": {},
   "source": [
    "##### Visualizing Accuracy Results"
   ]
  },
  {
   "cell_type": "code",
   "execution_count": 49,
   "metadata": {},
   "outputs": [
    {
     "data": {
      "image/png": "[encoded data removed]",
      "text/plain": [
       "<Figure size 432x288 with 1 Axes>"
      ]
     },
     "metadata": {
      "needs_background": "light"
     },
     "output_type": "display_data"
    }
   ],
   "source": [
    "fig = plt.figure()\n",
    "ax = fig.add_axes([0,0,1,1])\n",
    "labels = ['Accuracy KNN', 'Accuracy NB','F1-Score KNN','F1-Score NB']\n",
    "values = [accuracy, accuracy_N, f1_score_K, f1_score_N]\n",
    "plt.bar(langs,values,color=['red', 'purple', 'red', 'purple'])\n",
    "\n",
    "red_line = mlines.Line2D([], [], color='red', marker='*',\n",
    "                          markersize=15, label='KNN')\n",
    "pur_line = mlines.Line2D([], [], color='purple', marker='*',\n",
    "                          markersize=15, label='Naive Bayes')\n",
    "plt.legend(handles=[red_line,pur_line])\n",
    "\n",
    "plt.show()"
   ]
  }
 ],
 "metadata": {
  "kernelspec": {
   "display_name": "Python 3",
   "language": "python",
   "name": "python3"
  },
  "language_info": {
   "codemirror_mode": {
    "name": "ipython",
    "version": 3
   },
   "file_extension": ".py",
   "mimetype": "text/x-python",
   "name": "python",
   "nbconvert_exporter": "python",
   "pygments_lexer": "ipython3",
   "version": "3.7.4"
  }
 },
 "nbformat": 4,
 "nbformat_minor": 2
}
